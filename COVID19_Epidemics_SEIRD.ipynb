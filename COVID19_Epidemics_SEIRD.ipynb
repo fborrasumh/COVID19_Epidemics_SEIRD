{
 "cells": [
  {
   "cell_type": "markdown",
   "metadata": {},
   "source": [
    "# A Simple SEIRD Model for COVID-19\n",
    "\n",
    "This notebook presents a simple network-based model of COVID-19. The model is was prompted by the UK proposal to combat COVID-19 through herd immunity of the younger population, in order to protect the older and immunodepressed population.\n",
    "\n",
    "The main question this model is studying is: **is herd immunity an effective strategy to minimize loss of life among at-risk individuals?**\n",
    "\n",
    "## Probabilistic Finite State Machine\n",
    "\n",
    "The model considers the dynamics of $N$ individuals switching across states, as shown in the below diagram:\n",
    "\n",
    "![State diagram](doc/states.png)\n",
    "\n",
    "The states are as follows:\n",
    "* **Susceptible** ($S$): Individuals who do not have the disease. Each day, they switch to **Exposed** if in contact with an exposed or infected individual, according to a probability that depends on the state of that individual ($p_\\text{contagion,e}$ or $p_\\text{contagion,i}$).\n",
    "* **Exposed** ($E$): Individuals who have the disease and can transmit it, but are asymptomatic. This lasts on average $t_\\text{incubation}$ days, after which they switch to **Infected**.\n",
    "* **Infected** ($I$): Individuals who are showing symptoms. This lasts on average $t_\\text{symptomatic}$ days. Subsequently, individuals switch to either **Recovered** or **Dead** depending on probability $p_\\text{recover}$ or $p_\\text{die}$ (with $p_\\text{recover} + p_\\text{die} = 1$).\n",
    "* **Recovered** ($R$): Alive individuals who are not sick nor susceptible.\n",
    "* **Dead** ($D$): Dead individuals.\n",
    "\n",
    "## Network Model\n",
    "\n",
    "To simulate social network effects, this model uses a static [Barabasi-Albert scale-free network](https://en.wikipedia.org/wiki/Barab%C3%A1si%E2%80%93Albert_model). After the network is built, a fraction $p_\\text{die}$ of the nodes is randomly marked as the nodes who will die if infected.\n",
    "\n",
    "## Experiments\n",
    "\n",
    "In the code below, we perform 100 Monte Carlo simulations and show a graph with the average and standard deviation of the number of agents per state over time (time is discrete and corresponds to a day). No parameter fitting has been performed yet."
   ]
  },
  {
   "cell_type": "code",
   "execution_count": 13,
   "metadata": {
    "scrolled": false
   },
   "outputs": [
    {
     "name": "stdout",
     "output_type": "stream",
     "text": [
      "\u001b[32m\u001b[1m Resolving\u001b[22m\u001b[39m package versions...\n",
      "\u001b[32m\u001b[1m  Updating\u001b[22m\u001b[39m `~/.julia/environments/v1.3/Project.toml`\n",
      "\u001b[90m [no changes]\u001b[39m\n",
      "\u001b[32m\u001b[1m  Updating\u001b[22m\u001b[39m `~/.julia/environments/v1.3/Manifest.toml`\n",
      "\u001b[90m [no changes]\u001b[39m\n",
      "\u001b[32m\u001b[1m Resolving\u001b[22m\u001b[39m package versions...\n",
      "\u001b[32m\u001b[1m  Updating\u001b[22m\u001b[39m `~/.julia/environments/v1.3/Project.toml`\n",
      "\u001b[90m [no changes]\u001b[39m\n",
      "\u001b[32m\u001b[1m  Updating\u001b[22m\u001b[39m `~/.julia/environments/v1.3/Manifest.toml`\n",
      "\u001b[90m [no changes]\u001b[39m\n",
      "\u001b[32m\u001b[1m Resolving\u001b[22m\u001b[39m package versions...\n",
      "\u001b[32m\u001b[1m  Updating\u001b[22m\u001b[39m `~/.julia/environments/v1.3/Project.toml`\n",
      "\u001b[90m [no changes]\u001b[39m\n",
      "\u001b[32m\u001b[1m  Updating\u001b[22m\u001b[39m `~/.julia/environments/v1.3/Manifest.toml`\n",
      "\u001b[90m [no changes]\u001b[39m\n",
      "\u001b[32m\u001b[1m Resolving\u001b[22m\u001b[39m package versions...\n",
      "\u001b[32m\u001b[1m  Updating\u001b[22m\u001b[39m `~/.julia/environments/v1.3/Project.toml`\n",
      "\u001b[90m [no changes]\u001b[39m\n",
      "\u001b[32m\u001b[1m  Updating\u001b[22m\u001b[39m `~/.julia/environments/v1.3/Manifest.toml`\n",
      "\u001b[90m [no changes]\u001b[39m\n",
      "\u001b[32m\u001b[1m Resolving\u001b[22m\u001b[39m package versions...\n",
      "\u001b[32m\u001b[1m  Updating\u001b[22m\u001b[39m `~/.julia/environments/v1.3/Project.toml`\n",
      "\u001b[90m [no changes]\u001b[39m\n",
      "\u001b[32m\u001b[1m  Updating\u001b[22m\u001b[39m `~/.julia/environments/v1.3/Manifest.toml`\n",
      "\u001b[90m [no changes]\u001b[39m\n",
      "\u001b[32m\u001b[1m Resolving\u001b[22m\u001b[39m package versions...\n",
      "\u001b[32m\u001b[1m  Updating\u001b[22m\u001b[39m `~/.julia/environments/v1.3/Project.toml`\n",
      "\u001b[90m [no changes]\u001b[39m\n",
      "\u001b[32m\u001b[1m  Updating\u001b[22m\u001b[39m `~/.julia/environments/v1.3/Manifest.toml`\n",
      "\u001b[90m [no changes]\u001b[39m\n"
     ]
    }
   ],
   "source": [
    "include(\"src/SEIRD.jl\");\n",
    "using Printf"
   ]
  },
  {
   "cell_type": "code",
   "execution_count": 2,
   "metadata": {},
   "outputs": [],
   "source": [
    "function g_scalefree(params)\n",
    "    # https://en.wikipedia.org/wiki/Barab%C3%A1si%E2%80%93Albert_model\n",
    "    n  = params[1]\n",
    "    n0 = params[2]\n",
    "    k  = params[3]\n",
    "    barabasi_albert(n, n0, k)\n",
    "end;"
   ]
  },
  {
   "cell_type": "code",
   "execution_count": 3,
   "metadata": {},
   "outputs": [],
   "source": [
    "N_AGENTS      = 1000;              # number of agents\n",
    "NET           = g_scalefree;       # network generation function\n",
    "NET_PARAMS    = [N_AGENTS, div(N_AGENTS, 10), div(N_AGENTS, 50)]; # parameters for network generation function\n",
    "P_CONTAGION_E = 0.5;               # S -> E : prob of contagion due to exposed\n",
    "P_CONTAGION_I = 0.8;               # S -> E : prob of contagion due to infected\n",
    "T_EXPOSURE    = 15;                # E -> I : average time of exposure\n",
    "T_SYMPTOMATIC = 3;                 # I <-> R, I <-> D : average time of symptoms\n",
    "P_RECOVER     = 0.9;               # I <-> R, I <-> D : fraction of population that can recover if infected (others die)\n",
    "T_MAX         = 100;               # maximum time steps\n",
    "N_REPS        = 100;               # repetitions\n",
    "SEED          = 20200314;          # random seed"
   ]
  },
  {
   "cell_type": "code",
   "execution_count": 4,
   "metadata": {},
   "outputs": [],
   "source": [
    "die_constant(t, params) = 0.01;\n",
    "die_constant_params = nothing;\n",
    "\n",
    "die_linear(t, params) = 1.0 - params * t;\n",
    "die_linear_params = 1.0 / T_MAX;"
   ]
  },
  {
   "cell_type": "code",
   "execution_count": 14,
   "metadata": {},
   "outputs": [],
   "source": [
    "data = seird_simulate(\n",
    "    NET,                 # network generation function\n",
    "    NET_PARAMS,          # parameters for network generation function\n",
    "    P_CONTAGION_E,       # S -> E : prob of contagion due to exposed\n",
    "    P_CONTAGION_I,       # S -> E : prob of contagion due to infected\n",
    "    T_EXPOSURE,          # E -> I : average time of exposure\n",
    "    T_SYMPTOMATIC,       # I <-> R, I <-> D : 1/p_symptomatic = average time of symptoms\n",
    "    P_RECOVER,           # I <-> R, I <-> D : fraction of population that can recover if infected (others die)\n",
    "    die_constant,        # I <-> D : fraction of death-risk individuals who effectively die\n",
    "    die_constant_params, # parameters for f_die()\n",
    "    T_MAX,               # maximum time steps\n",
    "    N_REPS,              # repetitions\n",
    "    SEED                 # random seed\n",
    ");"
   ]
  },
  {
   "cell_type": "code",
   "execution_count": 15,
   "metadata": {},
   "outputs": [
    {
     "ename": "MethodError",
     "evalue": "MethodError: no method matching seird_plot(::Dict{AgentState,Array{Float64,N} where N}, ::Float64, ::String)\nClosest candidates are:\n  seird_plot(!Matched::Dict{AgentState,Array{Int64,N} where N}, ::Float64, ::String) at /Users/pincy/Fabrica/COVID19_Epidemics_SEIRD/src/SEIRD.jl:206",
     "output_type": "error",
     "traceback": [
      "MethodError: no method matching seird_plot(::Dict{AgentState,Array{Float64,N} where N}, ::Float64, ::String)\nClosest candidates are:\n  seird_plot(!Matched::Dict{AgentState,Array{Int64,N} where N}, ::Float64, ::String) at /Users/pincy/Fabrica/COVID19_Epidemics_SEIRD/src/SEIRD.jl:206",
      "",
      "Stacktrace:",
      " [1] top-level scope at In[15]:3"
     ]
    }
   ],
   "source": [
    "gr()\n",
    "ttl = @sprintf \"p_contagion_e=%.1f   p_contagion_i=%.1f   p_recover=%.1f\" P_CONTAGION_E P_CONTAGION_I P_RECOVER;\n",
    "seird_plot(data, 1.0 - P_RECOVER, ttl)"
   ]
  }
 ],
 "metadata": {
  "kernelspec": {
   "display_name": "Julia 1.3.1",
   "language": "julia",
   "name": "julia-1.3"
  },
  "language_info": {
   "file_extension": ".jl",
   "mimetype": "application/julia",
   "name": "julia",
   "version": "1.3.1"
  }
 },
 "nbformat": 4,
 "nbformat_minor": 2
}
